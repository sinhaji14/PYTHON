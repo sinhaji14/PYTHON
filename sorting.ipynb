{
  "nbformat": 4,
  "nbformat_minor": 0,
  "metadata": {
    "colab": {
      "provenance": [],
      "gpuType": "V28",
      "authorship_tag": "ABX9TyN3ViPJMlw5lOikG0l4V2Tf",
      "include_colab_link": true
    },
    "kernelspec": {
      "name": "python3",
      "display_name": "Python 3"
    },
    "language_info": {
      "name": "python"
    },
    "accelerator": "TPU"
  },
  "cells": [
    {
      "cell_type": "markdown",
      "metadata": {
        "id": "view-in-github",
        "colab_type": "text"
      },
      "source": [
        "<a href=\"https://colab.research.google.com/github/sinhaji14/PYTHON/blob/main/sorting.ipynb\" target=\"_parent\"><img src=\"https://colab.research.google.com/assets/colab-badge.svg\" alt=\"Open In Colab\"/></a>"
      ]
    },
    {
      "cell_type": "code",
      "execution_count": 1,
      "metadata": {
        "id": "5C1475A8l4Os"
      },
      "outputs": [],
      "source": [
        "#bubble sort\n",
        "def bubble_sort(arr):\n",
        "  n = len(arr)\n",
        "  for i in range(n-1):\n",
        "    for j in range(0, n-i-1):\n",
        "      if arr[j] > arr[j+1]:\n",
        "        #left is more than right, then swap\n",
        "        arr[j], arr[j+1] = arr[j+1], arr[j]"
      ]
    },
    {
      "cell_type": "code",
      "source": [
        "arr = [44,84,93,21,78]\n",
        "print(arr)\n",
        "bubble_sort(arr)\n",
        "print(arr)\n"
      ],
      "metadata": {
        "colab": {
          "base_uri": "https://localhost:8080/"
        },
        "id": "WXfHt7SOnUYp",
        "outputId": "98eba7f0-5508-49d3-82de-844c2f487360"
      },
      "execution_count": 4,
      "outputs": [
        {
          "output_type": "stream",
          "name": "stdout",
          "text": [
            "[44, 84, 93, 21, 78]\n",
            "[21, 44, 78, 84, 93]\n"
          ]
        }
      ]
    },
    {
      "cell_type": "code",
      "source": [
        "#for tc =O(N)\n",
        "def bubble_sort_enhanced(arr):\n",
        "  n = len(arr)\n",
        "  for i in range(n-1):\n",
        "    is_sorted = True\n",
        "    for j in range(0, n-i-1):\n",
        "      if arr[j] > arr[j+1]:\n",
        "        is_sorted = False\n",
        "        #left is more than right, then swap\n",
        "        arr[j], arr[j+1] = arr[j+1], arr[j]\n",
        "        if is_sorted:\n",
        "          break"
      ],
      "metadata": {
        "id": "l8L8HKZkngE1"
      },
      "execution_count": 18,
      "outputs": []
    },
    {
      "cell_type": "code",
      "execution_count": 19,
      "metadata": {
        "colab": {
          "base_uri": "https://localhost:8080/"
        },
        "id": "1smyAb9CtAXD",
        "outputId": "a2926c1d-1c55-4603-a5f4-f979731a4d2e"
      },
      "outputs": [
        {
          "output_type": "stream",
          "name": "stdout",
          "text": [
            "[15, 11, 20, 18, 9]\n",
            "[9, 11, 15, 18, 20]\n"
          ]
        }
      ],
      "source": [
        "arr=[15,11,20,18,9]\n",
        "print(arr)\n",
        "bubble_sort_enhanced(arr)\n",
        "print(arr)"
      ]
    },
    {
      "cell_type": "code",
      "execution_count": 28,
      "metadata": {
        "colab": {
          "base_uri": "https://localhost:8080/"
        },
        "id": "01ag_743s-t6",
        "outputId": "960fa96f-4922-4ca1-cbee-3396972d8a06"
      },
      "outputs": [
        {
          "output_type": "stream",
          "name": "stdout",
          "text": [
            "10\n"
          ]
        }
      ],
      "source": [
        "#return the count of swaps\n",
        "def bubble_sort_swap_count(arr):\n",
        "  n = len(arr)\n",
        "  count=0\n",
        "  for i in range(n-1):\n",
        "    is_sorted = True\n",
        "    for j in range(0, n-i-1):\n",
        "      if arr[j] > arr[j+1]:\n",
        "        is_sorted = False\n",
        "        count=count+1\n",
        "        #left is more than right, then swap\n",
        "        arr[j], arr[j+1] = arr[j+1], arr[j]\n",
        "      if is_sorted:\n",
        "        break\n",
        "  return count\n",
        "\n",
        "\n",
        "print(bubble_sort_swap_count([5,4,3,2,1]))"
      ]
    },
    {
      "cell_type": "code",
      "source": [],
      "metadata": {
        "id": "f6IsV5P5xlYx"
      },
      "execution_count": null,
      "outputs": []
    }
  ]
}